{
  "cells": [
    {
      "cell_type": "markdown",
      "metadata": {
        "id": "JzvhCW9i4zsx"
      },
      "source": [
        "## EDA LAB\n",
        "\n",
        "The General Social Survey (GSS) is a bi-annual nationally representative survey of Americans, with almost 7000 different questions asked since the survey began in the 1970s. It has straightforward questions about respondents' demographic information, but also questions like \"Does your job regularly require you to perform repetitive or forceful hand movements or involve awkward postures?\" or \"How often do the demands of your job interfere with your family life?\" There are a variety of controversial questions. No matter what you're curious about, there's something interesting in here to check out. The codebook is 904 pages (use CTRL+F to search it).\n",
        "\n",
        "The data and codebook are available at:\n",
        "https://gss.norc.org/us/en/gss/get-the-data.html\n",
        "\n",
        "The datasets are so large that it might make sense to pick the variables you want, and then download just those variables from:\n",
        "https://gssdataexplorer.norc.org/variables/vfilter\n",
        "\n",
        "Here is your task:\n",
        "1. Download a small (5-15) set of variables of interest. (You can also check out `get_gss.ipynb` for some processed data.)\n",
        "2. Write a short description of the data you chose, and why. (~500 words)\n",
        "3. Load the data using Pandas. Clean them up for EDA. Do this in this notebook with comments or markdown chunks explaining your choices.\n",
        "4. Produce some numeric summaries and visualizations.\n",
        "5. Describe your findings. (500 - 1000 words, or more)\n",
        "\n",
        "For example, you might want to look at how aspects of a person's childhood family are correlated or not with their career or family choices as an adult. Or how political or religious affiliations correlate with drug use or sexual practices. It's an extremely wide-ranging survey.\n"
      ]
    },
    {
      "cell_type": "code",
      "source": [
        "import pandas as pd\n",
        "\n",
        "var_list = ['year','id','wrkstat','prestige','occ','educ','sex','race','rincome','polviews']\n",
        "\n",
        "# List of variables you want to save\n",
        "output_filename = 'selected_gss_data.csv' # Name of the file you want to save the data to\n",
        "#\n",
        "phase = 0 # Starts in write mode; after one iteration of loop, switches to append mode\n",
        "#\n",
        "for k in range(3): # for each chunk of the data\n",
        "    url = 'https://github.com/DS3001/project_gss/raw/main/gss_chunk_' + str(1+k) + '.parquet' # Create url to the chunk to be processed\n",
        "    df = pd.read_parquet(url) # Download this chunk of data\n",
        "    if phase == 0 :\n",
        "        df.loc[:,var_list].to_csv(output_filename, # specifies target file to save the chunk to\n",
        "                                mode='w', # control write versus append\n",
        "                                header=var_list, # variable names\n",
        "                                index=False) # no row index saved\n",
        "        phase = 1 # Switch from write mode to append mode\n",
        "    elif phase == 1 :\n",
        "        df.loc[:,var_list].to_csv(output_filename, # specifies target file to save the chunk to\n",
        "                                mode='a', # control write versus append\n",
        "                                header=None, # variable names\n",
        "                                index=False) # no row index saved\n",
        "        phase = 1 # Switch from write mode to append mode\n",
        "\n",
        "gss = pd.read_csv(\"selected_gss_data.csv\")\n",
        "\n",
        "# Display 1st 5 rows\n",
        "print(gss.head())"
      ],
      "metadata": {
        "id": "AFEz9Q437gP9",
        "outputId": "ac6bcb24-91bc-4c68-a73b-ef1bb3531db7",
        "colab": {
          "base_uri": "https://localhost:8080/"
        }
      },
      "execution_count": 6,
      "outputs": [
        {
          "output_type": "stream",
          "name": "stdout",
          "text": [
            "   year  id            wrkstat  prestige    occ  educ     sex   race rincome  \\\n",
            "0  1972   1  working full time      50.0  205.0  16.0  female  white     NaN   \n",
            "1  1972   2            retired      45.0  441.0  10.0    male  white     NaN   \n",
            "2  1972   3  working part time      44.0  270.0  12.0  female  white     NaN   \n",
            "3  1972   4  working full time      57.0    1.0  17.0  female  white     NaN   \n",
            "4  1972   5      keeping house      40.0  385.0  12.0  female  white     NaN   \n",
            "\n",
            "  polviews  \n",
            "0      NaN  \n",
            "1      NaN  \n",
            "2      NaN  \n",
            "3      NaN  \n",
            "4      NaN  \n"
          ]
        }
      ]
    },
    {
      "cell_type": "markdown",
      "source": [
        "We chose 10 variables to feature in our dataset: year, id, wrkstat, prestige, occ, educ, sex, race, rincome, and polviews."
      ],
      "metadata": {
        "id": "8-dcIKJC8eFB"
      }
    },
    {
      "cell_type": "code",
      "source": [],
      "metadata": {
        "id": "HSd8sAYD61Cd"
      },
      "execution_count": 6,
      "outputs": []
    }
  ],
  "metadata": {
    "kernelspec": {
      "display_name": "Python 3 (ipykernel)",
      "language": "python",
      "name": "python3"
    },
    "language_info": {
      "codemirror_mode": {
        "name": "ipython",
        "version": 3
      },
      "file_extension": ".py",
      "mimetype": "text/x-python",
      "name": "python",
      "nbconvert_exporter": "python",
      "pygments_lexer": "ipython3",
      "version": "3.10.18"
    },
    "colab": {
      "provenance": []
    }
  },
  "nbformat": 4,
  "nbformat_minor": 0
}